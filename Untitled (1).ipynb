{
 "cells": [
  {
   "cell_type": "code",
   "execution_count": 5,
   "id": "bc9b2640",
   "metadata": {},
   "outputs": [
    {
     "name": "stdout",
     "output_type": "stream",
     "text": [
      "DATA SCIENCE\n"
     ]
    }
   ],
   "source": [
    "print (\"DATA SCIENCE\")"
   ]
  },
  {
   "cell_type": "markdown",
   "id": "ccf31ea9",
   "metadata": {},
   "source": [
    "# DATA SCIENTIST"
   ]
  },
  {
   "cell_type": "code",
   "execution_count": null,
   "id": "f776be2c",
   "metadata": {},
   "outputs": [],
   "source": []
  },
  {
   "cell_type": "code",
   "execution_count": 4,
   "id": "02fc9191",
   "metadata": {
    "scrolled": true
   },
   "outputs": [
    {
     "name": "stdout",
     "output_type": "stream",
     "text": [
      "Nabeel Daad Khan\n"
     ]
    }
   ],
   "source": [
    "print (\"Nabeel Daad Khan\")"
   ]
  }
 ],
 "metadata": {
  "kernelspec": {
   "display_name": "Python 3 (ipykernel)",
   "language": "python",
   "name": "python3"
  },
  "language_info": {
   "codemirror_mode": {
    "name": "ipython",
    "version": 3
   },
   "file_extension": ".py",
   "mimetype": "text/x-python",
   "name": "python",
   "nbconvert_exporter": "python",
   "pygments_lexer": "ipython3",
   "version": "3.11.5"
  }
 },
 "nbformat": 4,
 "nbformat_minor": 5
}
